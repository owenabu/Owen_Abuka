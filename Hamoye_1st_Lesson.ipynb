{
 "cells": [
  {
   "cell_type": "code",
   "execution_count": 1,
   "id": "0298d12f-359d-44f6-ab09-97b44440fba9",
   "metadata": {},
   "outputs": [
    {
     "name": "stdout",
     "output_type": "stream",
     "text": [
      "Hello, World\n"
     ]
    }
   ],
   "source": [
    "print (\"Hello, World\")"
   ]
  },
  {
   "cell_type": "code",
   "execution_count": 2,
   "id": "830bc21a-2165-48b1-b9ff-930123abf95e",
   "metadata": {},
   "outputs": [
    {
     "name": "stdout",
     "output_type": "stream",
     "text": [
      "Hello, We World\n"
     ]
    }
   ],
   "source": [
    "print (\"Hello, We World\")"
   ]
  },
  {
   "cell_type": "code",
   "execution_count": 3,
   "id": "4c193b1b-e5e9-449a-9046-f8cb0dbcc004",
   "metadata": {},
   "outputs": [],
   "source": [
    "import time\n",
    "time.sleep(3)"
   ]
  },
  {
   "cell_type": "code",
   "execution_count": 4,
   "id": "acf12d1f-35da-4e6c-a327-da93ab4c7bc8",
   "metadata": {},
   "outputs": [
    {
     "name": "stdout",
     "output_type": "stream",
     "text": [
      "hello World\n"
     ]
    }
   ],
   "source": [
    "print (\"hello World\")"
   ]
  },
  {
   "cell_type": "code",
   "execution_count": 5,
   "id": "ec9f0317-637a-4143-b571-8e9f52a81e71",
   "metadata": {},
   "outputs": [],
   "source": [
    "school=(\"hamoye_one_school\")"
   ]
  },
  {
   "cell_type": "code",
   "execution_count": 6,
   "id": "7012c169-074c-44da-b414-65a716b6a9d9",
   "metadata": {},
   "outputs": [
    {
     "name": "stdout",
     "output_type": "stream",
     "text": [
      "hamoye_one_school\n"
     ]
    }
   ],
   "source": [
    "print (school)"
   ]
  },
  {
   "cell_type": "code",
   "execution_count": 21,
   "id": "86823a4b-79b3-4c53-a931-dccc3214e204",
   "metadata": {},
   "outputs": [
    {
     "name": "stdout",
     "output_type": "stream",
     "text": [
      "I LOVE CODING\n"
     ]
    }
   ],
   "source": [
    "print(\"I\" + \" \" + \"LOVE\" + \" \" + \"CODING\")"
   ]
  },
  {
   "cell_type": "code",
   "execution_count": null,
   "id": "df2b84cd-40c7-485c-a8d8-81b5d23dd9f9",
   "metadata": {},
   "outputs": [],
   "source": []
  },
  {
   "cell_type": "code",
   "execution_count": 4,
   "id": "af07b6e4-c23b-4618-af9b-95d007a573ed",
   "metadata": {},
   "outputs": [],
   "source": [
    "first_name = \"Owen\""
   ]
  },
  {
   "cell_type": "code",
   "execution_count": 8,
   "id": "2f1135e3-de39-4977-901c-e5db324e85d8",
   "metadata": {},
   "outputs": [
    {
     "name": "stdout",
     "output_type": "stream",
     "text": [
      "my name is Owen\n"
     ]
    }
   ],
   "source": [
    "print('my name is {}'.format(first_name))"
   ]
  },
  {
   "cell_type": "code",
   "execution_count": null,
   "id": "0f4f567b-e591-468e-aa10-32736f76339d",
   "metadata": {},
   "outputs": [],
   "source": [
    "last_name = \"Abuka\""
   ]
  },
  {
   "cell_type": "code",
   "execution_count": null,
   "id": "34c7ff4a-2e7b-416b-b9d0-b4f49ad72ac0",
   "metadata": {},
   "outputs": [],
   "source": [
    "full_name = first_name + \" \" + last_name"
   ]
  },
  {
   "cell_type": "code",
   "execution_count": 7,
   "id": "63462a2c-865a-4b1b-bd3b-4eed6ee0ab12",
   "metadata": {},
   "outputs": [
    {
     "name": "stdout",
     "output_type": "stream",
     "text": [
      "Owen\n"
     ]
    }
   ],
   "source": [
    "print(first_name)"
   ]
  },
  {
   "cell_type": "code",
   "execution_count": 9,
   "id": "d689aff3-0706-4707-bf25-f528855ea895",
   "metadata": {},
   "outputs": [],
   "source": [
    "word = \"animal\""
   ]
  },
  {
   "cell_type": "code",
   "execution_count": 10,
   "id": "920beb3e-f2c4-4ed1-8995-b39c842747a1",
   "metadata": {},
   "outputs": [
    {
     "name": "stdout",
     "output_type": "stream",
     "text": [
      "a\n"
     ]
    }
   ],
   "source": [
    "print(word[0])"
   ]
  },
  {
   "cell_type": "code",
   "execution_count": 12,
   "id": "bd8b84e9-a1e3-4862-b3d6-de92a0526ea8",
   "metadata": {},
   "outputs": [
    {
     "name": "stdout",
     "output_type": "stream",
     "text": [
      "l\n"
     ]
    }
   ],
   "source": [
    "print(word[5])"
   ]
  },
  {
   "cell_type": "code",
   "execution_count": 13,
   "id": "ae5eb15e-d191-4a4b-885f-eb2bbe28425a",
   "metadata": {},
   "outputs": [
    {
     "name": "stdout",
     "output_type": "stream",
     "text": [
      "ani\n"
     ]
    }
   ],
   "source": [
    "print(word[0:3])"
   ]
  },
  {
   "cell_type": "code",
   "execution_count": 16,
   "id": "5dac5bf3-ea63-4026-a5b5-101f98432a95",
   "metadata": {},
   "outputs": [
    {
     "name": "stdout",
     "output_type": "stream",
     "text": [
      "Animal\n"
     ]
    }
   ],
   "source": [
    "print(word.title())"
   ]
  },
  {
   "cell_type": "code",
   "execution_count": 17,
   "id": "28573ae2-018d-44bc-892f-7cbf52fbbd09",
   "metadata": {},
   "outputs": [
    {
     "name": "stdout",
     "output_type": "stream",
     "text": [
      "ANIMAL\n"
     ]
    }
   ],
   "source": [
    "print(word.upper())"
   ]
  },
  {
   "cell_type": "code",
   "execution_count": 19,
   "id": "85c74726-5d2f-4583-9fd8-79c67200e575",
   "metadata": {},
   "outputs": [
    {
     "name": "stdout",
     "output_type": "stream",
     "text": [
      "enimel\n"
     ]
    }
   ],
   "source": [
    "print(word.replace('a','e'))"
   ]
  },
  {
   "cell_type": "code",
   "execution_count": 20,
   "id": "ec8479f7-83f8-48c7-ac58-c36ffc076d22",
   "metadata": {},
   "outputs": [],
   "source": [
    "sentence = \"Welcome to Hamoye Externship\""
   ]
  },
  {
   "cell_type": "code",
   "execution_count": 22,
   "id": "374064ae-ddfc-4829-8365-726d4f7ccf60",
   "metadata": {},
   "outputs": [
    {
     "name": "stdout",
     "output_type": "stream",
     "text": [
      "24\n"
     ]
    }
   ],
   "source": [
    "print(sentence.find('ship'))"
   ]
  },
  {
   "cell_type": "code",
   "execution_count": 25,
   "id": "005d25fc-3b26-40f5-ad16-8ff67bc3c98f",
   "metadata": {},
   "outputs": [],
   "source": [
    "x = 10"
   ]
  },
  {
   "cell_type": "code",
   "execution_count": 28,
   "id": "a6412406-42db-46d3-a867-fb0b453d3691",
   "metadata": {},
   "outputs": [],
   "source": [
    "y = 4"
   ]
  },
  {
   "cell_type": "code",
   "execution_count": 29,
   "id": "658d12de-74f4-480d-b95d-2e7b3b623cfd",
   "metadata": {},
   "outputs": [
    {
     "name": "stdout",
     "output_type": "stream",
     "text": [
      "x is greater than y\n"
     ]
    }
   ],
   "source": [
    "if x > y:\n",
    "    print(\"x is greater than y\")"
   ]
  },
  {
   "cell_type": "code",
   "execution_count": 1,
   "id": "3108c367-20dc-444d-b228-e1ef431cd6b9",
   "metadata": {},
   "outputs": [],
   "source": [
    "x = 4"
   ]
  },
  {
   "cell_type": "code",
   "execution_count": 2,
   "id": "6cce89a9-cce6-422e-a2e0-c3624552110e",
   "metadata": {},
   "outputs": [],
   "source": [
    "y = 4"
   ]
  },
  {
   "cell_type": "code",
   "execution_count": 3,
   "id": "00c0a592-7c41-4a46-a30b-170273a46019",
   "metadata": {},
   "outputs": [
    {
     "name": "stdout",
     "output_type": "stream",
     "text": [
      "x is equal to y\n"
     ]
    }
   ],
   "source": [
    "if x > y:\n",
    "    print(\"x is greater than y\")\n",
    "elif x==y:\n",
    "    print(\"x is equal to y\")\n",
    "else:\n",
    "    print(\"y is greater than x\")"
   ]
  },
  {
   "cell_type": "code",
   "execution_count": 10,
   "id": "a0adfa8e-d6be-4c21-8e78-b65bd95d4d93",
   "metadata": {},
   "outputs": [],
   "source": [
    "...\n",
    "Names = ['Owen', 35, 'Abia', 'Male']"
   ]
  },
  {
   "cell_type": "code",
   "execution_count": 11,
   "id": "181be4be-34b2-4e27-9895-66b23779b13a",
   "metadata": {},
   "outputs": [
    {
     "name": "stdout",
     "output_type": "stream",
     "text": [
      "Abia\n"
     ]
    }
   ],
   "source": [
    "print(Names[2])"
   ]
  },
  {
   "cell_type": "code",
   "execution_count": null,
   "id": "7f68b6d3-e5c1-4fd1-ac12-a52c505eb66e",
   "metadata": {},
   "outputs": [],
   "source": [
    "#update students age"
   ]
  },
  {
   "cell_type": "code",
   "execution_count": 12,
   "id": "66fbe4db-b898-4e95-8faa-74980539058f",
   "metadata": {},
   "outputs": [],
   "source": [
    "Names[1] = 28"
   ]
  },
  {
   "cell_type": "code",
   "execution_count": 13,
   "id": "ce104e90-ee23-41f2-ab02-d444b05995da",
   "metadata": {},
   "outputs": [
    {
     "name": "stdout",
     "output_type": "stream",
     "text": [
      "['Owen', 28, 'Abia', 'Male']\n"
     ]
    }
   ],
   "source": [
    "print(Names)"
   ]
  },
  {
   "cell_type": "code",
   "execution_count": 15,
   "id": "48db9022-2065-454a-b90a-a923cf5a39ac",
   "metadata": {},
   "outputs": [],
   "source": [
    "Numbers = [40, 33, 23.5, 2.4, 0.5]"
   ]
  },
  {
   "cell_type": "code",
   "execution_count": 16,
   "id": "3c6f1cb3-97bc-4f06-84dc-65cdc5658d91",
   "metadata": {},
   "outputs": [],
   "source": [
    "Numbers.sort()"
   ]
  },
  {
   "cell_type": "code",
   "execution_count": 17,
   "id": "09af744c-2963-42a6-befd-9e9b6013721e",
   "metadata": {},
   "outputs": [
    {
     "name": "stdout",
     "output_type": "stream",
     "text": [
      "[0.5, 2.4, 23.5, 33, 40]\n"
     ]
    }
   ],
   "source": [
    "print(Numbers)"
   ]
  },
  {
   "cell_type": "code",
   "execution_count": 21,
   "id": "7daae253-0b55-4558-a770-f48132d8f72d",
   "metadata": {},
   "outputs": [],
   "source": [
    "Numbers = [40, 'egg', 23.5, 2.4, 0.5]"
   ]
  },
  {
   "cell_type": "code",
   "execution_count": 23,
   "id": "9e01c84c-deeb-4523-a2d1-e0d574762b99",
   "metadata": {},
   "outputs": [
    {
     "name": "stdout",
     "output_type": "stream",
     "text": [
      "<class 'list'>\n"
     ]
    }
   ],
   "source": [
    "print(type(Numbers))"
   ]
  },
  {
   "cell_type": "code",
   "execution_count": 24,
   "id": "bdbd072d-3880-484a-80fc-d2edc98de5ee",
   "metadata": {},
   "outputs": [],
   "source": [
    "days = [\"Monday\", \"Tuesday\", \"Wednesday\"]"
   ]
  },
  {
   "cell_type": "code",
   "execution_count": 25,
   "id": "1f92734d-e8c3-49ab-8d85-029d8db77e27",
   "metadata": {},
   "outputs": [],
   "source": [
    "days.append(\"Thursday\")"
   ]
  },
  {
   "cell_type": "code",
   "execution_count": 26,
   "id": "5ce74f64-ebc1-4a1d-84bb-9d59b6378e55",
   "metadata": {},
   "outputs": [
    {
     "name": "stdout",
     "output_type": "stream",
     "text": [
      "['Monday', 'Tuesday', 'Wednesday', 'Thursday']\n"
     ]
    }
   ],
   "source": [
    "print(days)"
   ]
  },
  {
   "cell_type": "code",
   "execution_count": 31,
   "id": "cd007ca1-7540-452f-a8e6-42d571b848d1",
   "metadata": {},
   "outputs": [],
   "source": [
    "days.extend([\"friday\", \"Saturday\"])"
   ]
  },
  {
   "cell_type": "code",
   "execution_count": 32,
   "id": "69dfce11-f0cd-4205-bc1b-9c20705a1690",
   "metadata": {},
   "outputs": [
    {
     "name": "stdout",
     "output_type": "stream",
     "text": [
      "['Monday', 'Tuesday', 'Wednesday', 'Thursday', 'f', 'r', 'i', 'd', 'a', 'y', 'friday', 'Saturday']\n"
     ]
    }
   ],
   "source": [
    "print(days)"
   ]
  },
  {
   "cell_type": "code",
   "execution_count": null,
   "id": "543489d6-4d1c-43c5-9b77-e70860776d0d",
   "metadata": {},
   "outputs": [],
   "source": []
  },
  {
   "cell_type": "code",
   "execution_count": null,
   "id": "6e279abd-ce7e-4440-bb1b-b7f8306a341f",
   "metadata": {},
   "outputs": [],
   "source": []
  },
  {
   "cell_type": "code",
   "execution_count": null,
   "id": "3a9a4637-9e39-4ffc-8dcb-2e0d0e650129",
   "metadata": {},
   "outputs": [],
   "source": []
  },
  {
   "cell_type": "code",
   "execution_count": null,
   "id": "d5ef2c9f-6bd0-43e0-8143-a891dc005169",
   "metadata": {},
   "outputs": [],
   "source": []
  },
  {
   "cell_type": "code",
   "execution_count": null,
   "id": "711555fb-f5d3-460c-92f6-86de6d643316",
   "metadata": {},
   "outputs": [],
   "source": []
  },
  {
   "cell_type": "code",
   "execution_count": null,
   "id": "9601fc97-7e44-4202-b46f-dff7249fab14",
   "metadata": {},
   "outputs": [],
   "source": []
  },
  {
   "cell_type": "code",
   "execution_count": null,
   "id": "d6cfac21-d46c-40f3-b614-3e31ba9186cd",
   "metadata": {},
   "outputs": [],
   "source": []
  },
  {
   "cell_type": "code",
   "execution_count": null,
   "id": "d3241e98-a3f1-40d0-ad18-b50690b5194c",
   "metadata": {},
   "outputs": [],
   "source": []
  },
  {
   "cell_type": "code",
   "execution_count": null,
   "id": "5d1f079d-1d86-4202-8fdb-915fecce67d7",
   "metadata": {},
   "outputs": [],
   "source": []
  },
  {
   "cell_type": "code",
   "execution_count": null,
   "id": "04a3116c-56c5-42a9-be60-630a030e1b16",
   "metadata": {},
   "outputs": [],
   "source": []
  },
  {
   "cell_type": "code",
   "execution_count": null,
   "id": "104a7d66-7128-49a5-a9f4-709ecb1c807c",
   "metadata": {},
   "outputs": [],
   "source": []
  },
  {
   "cell_type": "code",
   "execution_count": null,
   "id": "a5843126-27ad-41ae-baeb-d5443bd3073c",
   "metadata": {},
   "outputs": [],
   "source": []
  },
  {
   "cell_type": "code",
   "execution_count": null,
   "id": "fa60b047-b625-426c-9b65-5914cb43a025",
   "metadata": {},
   "outputs": [],
   "source": []
  },
  {
   "cell_type": "code",
   "execution_count": null,
   "id": "205f9c78-a398-4cd3-88cf-6620bac2f1e5",
   "metadata": {},
   "outputs": [],
   "source": []
  },
  {
   "cell_type": "code",
   "execution_count": null,
   "id": "82276f48-0608-4da6-8bbd-10846bbf980a",
   "metadata": {},
   "outputs": [],
   "source": []
  },
  {
   "cell_type": "code",
   "execution_count": null,
   "id": "11a76b78-d791-4f4e-8a8f-1dc063de5e32",
   "metadata": {},
   "outputs": [],
   "source": []
  },
  {
   "cell_type": "code",
   "execution_count": null,
   "id": "8248e5bb-3949-428f-8c97-04d9b2482bbd",
   "metadata": {},
   "outputs": [],
   "source": []
  },
  {
   "cell_type": "code",
   "execution_count": null,
   "id": "edae81c9-45e6-47fa-8d0a-00c0927c015c",
   "metadata": {},
   "outputs": [],
   "source": []
  },
  {
   "cell_type": "code",
   "execution_count": null,
   "id": "6909fbdc-ffd9-4ddb-adcd-069c1a6f1128",
   "metadata": {},
   "outputs": [],
   "source": []
  },
  {
   "cell_type": "code",
   "execution_count": null,
   "id": "d4bbf59a-38a3-43ad-b460-cdc07623e331",
   "metadata": {},
   "outputs": [],
   "source": []
  },
  {
   "cell_type": "code",
   "execution_count": null,
   "id": "1e0f88f2-04e7-4cdd-9b5a-d55211e38326",
   "metadata": {},
   "outputs": [],
   "source": []
  },
  {
   "cell_type": "code",
   "execution_count": null,
   "id": "4839418c-ce2b-4217-bac7-b67861aac262",
   "metadata": {},
   "outputs": [],
   "source": []
  },
  {
   "cell_type": "code",
   "execution_count": null,
   "id": "fc247cbc-b3ee-40f4-b3cd-27b40d61ebab",
   "metadata": {},
   "outputs": [],
   "source": []
  },
  {
   "cell_type": "code",
   "execution_count": null,
   "id": "7028c492-0e4b-46ef-8c86-66c2359ff82f",
   "metadata": {},
   "outputs": [],
   "source": []
  },
  {
   "cell_type": "code",
   "execution_count": null,
   "id": "96fe961c-5af9-41ea-8ef6-5a17ec20d425",
   "metadata": {},
   "outputs": [],
   "source": []
  },
  {
   "cell_type": "code",
   "execution_count": null,
   "id": "8a086d33-1b6f-4c1a-8411-93d766c5d34b",
   "metadata": {},
   "outputs": [],
   "source": []
  },
  {
   "cell_type": "code",
   "execution_count": null,
   "id": "db91a240-3384-40c6-ae5e-a382ae17dd71",
   "metadata": {},
   "outputs": [],
   "source": []
  },
  {
   "cell_type": "code",
   "execution_count": null,
   "id": "70fed58f-1321-4108-9527-410804b658b8",
   "metadata": {},
   "outputs": [],
   "source": []
  },
  {
   "cell_type": "code",
   "execution_count": null,
   "id": "7ca68c2e-a594-4e37-86f5-d37d6c9a5aa4",
   "metadata": {},
   "outputs": [],
   "source": []
  },
  {
   "cell_type": "code",
   "execution_count": null,
   "id": "122ba120-d30c-4b99-81f7-f3008e69f44b",
   "metadata": {},
   "outputs": [],
   "source": []
  },
  {
   "cell_type": "code",
   "execution_count": null,
   "id": "b9ae77d7-cd4c-4257-a60e-a5ac4a91f67a",
   "metadata": {},
   "outputs": [],
   "source": []
  },
  {
   "cell_type": "code",
   "execution_count": null,
   "id": "ce134071-4f3e-4b2e-badc-fd2adbafc3e5",
   "metadata": {},
   "outputs": [],
   "source": []
  },
  {
   "cell_type": "code",
   "execution_count": null,
   "id": "0305b7c0-4001-47e8-b84e-43c156cc9849",
   "metadata": {},
   "outputs": [],
   "source": []
  },
  {
   "cell_type": "code",
   "execution_count": null,
   "id": "8607151f-c678-4776-9f62-712e2255cbb0",
   "metadata": {},
   "outputs": [],
   "source": []
  },
  {
   "cell_type": "code",
   "execution_count": null,
   "id": "0d466559-0002-4b94-b88b-f4be7a5fce12",
   "metadata": {},
   "outputs": [],
   "source": []
  },
  {
   "cell_type": "code",
   "execution_count": null,
   "id": "f3cad7ee-007d-43d8-a638-c3d1292aaafb",
   "metadata": {},
   "outputs": [],
   "source": []
  },
  {
   "cell_type": "code",
   "execution_count": null,
   "id": "55d392d0-63ae-4c85-ab15-684ca86d5c56",
   "metadata": {},
   "outputs": [],
   "source": []
  },
  {
   "cell_type": "code",
   "execution_count": null,
   "id": "e8ee49a3-41f4-4f10-86e1-5b91c03a75d5",
   "metadata": {},
   "outputs": [],
   "source": []
  },
  {
   "cell_type": "code",
   "execution_count": null,
   "id": "4c8017f2-4b73-4b9b-9ee0-4de18a6d9e62",
   "metadata": {},
   "outputs": [],
   "source": []
  },
  {
   "cell_type": "code",
   "execution_count": null,
   "id": "0eb15d1c-7971-42d5-8bc4-1c7233f9b43f",
   "metadata": {},
   "outputs": [],
   "source": []
  },
  {
   "cell_type": "code",
   "execution_count": 7,
   "id": "959804e3-bf5d-43f3-92a3-148bf68dbe82",
   "metadata": {
    "scrolled": true
   },
   "outputs": [
    {
     "data": {
      "text/plain": [
       "'Hello, Tim!'"
      ]
     },
     "execution_count": 7,
     "metadata": {},
     "output_type": "execute_result"
    }
   ],
   "source": [
    "def say_hello(recipient):\n",
    "    return 'Hello, {}!'.format(recipient)\n",
    "say_hello(\"Tim\")"
   ]
  }
 ],
 "metadata": {
  "kernelspec": {
   "display_name": "Python 3 (ipykernel)",
   "language": "python",
   "name": "python3"
  },
  "language_info": {
   "codemirror_mode": {
    "name": "ipython",
    "version": 3
   },
   "file_extension": ".py",
   "mimetype": "text/x-python",
   "name": "python",
   "nbconvert_exporter": "python",
   "pygments_lexer": "ipython3",
   "version": "3.11.7"
  }
 },
 "nbformat": 4,
 "nbformat_minor": 5
}
